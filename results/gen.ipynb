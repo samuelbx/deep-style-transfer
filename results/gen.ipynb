{
 "cells": [
  {
   "cell_type": "code",
   "execution_count": null,
   "metadata": {},
   "outputs": [
    {
     "ename": "FileNotFoundError",
     "evalue": "Image file '/Users/sam/Documents/Code/deep-transfer/results/1.jpeg' not found.",
     "output_type": "error",
     "traceback": [
      "\u001b[0;31m---------------------------------------------------------------------------\u001b[0m",
      "\u001b[0;31mFileNotFoundError\u001b[0m                         Traceback (most recent call last)",
      "Cell \u001b[0;32mIn[3], line 11\u001b[0m\n\u001b[1;32m      9\u001b[0m \u001b[38;5;28;01mfor\u001b[39;00m img_file \u001b[38;5;129;01min\u001b[39;00m image_files:\n\u001b[1;32m     10\u001b[0m     \u001b[38;5;28;01mif\u001b[39;00m \u001b[38;5;129;01mnot\u001b[39;00m os\u001b[38;5;241m.\u001b[39mpath\u001b[38;5;241m.\u001b[39mexists(img_file):\n\u001b[0;32m---> 11\u001b[0m         \u001b[38;5;28;01mraise\u001b[39;00m \u001b[38;5;167;01mFileNotFoundError\u001b[39;00m(\u001b[38;5;124mf\u001b[39m\u001b[38;5;124m\"\u001b[39m\u001b[38;5;124mImage file \u001b[39m\u001b[38;5;124m'\u001b[39m\u001b[38;5;132;01m{\u001b[39;00mimg_file\u001b[38;5;132;01m}\u001b[39;00m\u001b[38;5;124m'\u001b[39m\u001b[38;5;124m not found.\u001b[39m\u001b[38;5;124m\"\u001b[39m)\n\u001b[1;32m     13\u001b[0m \u001b[38;5;66;03m# Load images\u001b[39;00m\n\u001b[1;32m     14\u001b[0m images \u001b[38;5;241m=\u001b[39m [mpimg\u001b[38;5;241m.\u001b[39mimread(img) \u001b[38;5;28;01mfor\u001b[39;00m img \u001b[38;5;129;01min\u001b[39;00m image_files]\n",
      "\u001b[0;31mFileNotFoundError\u001b[0m: Image file '/Users/sam/Documents/Code/deep-transfer/results/1.jpeg' not found."
     ]
    }
   ],
   "source": [
    "import matplotlib.pyplot as plt\n",
    "import matplotlib.image as mpimg\n",
    "import os\n",
    "\n",
    "# List of image filenames\n",
    "image_files = ['/Users/sam/Documents/Code/deep-transfer/results/1.jpg', '/Users/sam/Documents/Code/deep-transfer/results/2.jpg', '/Users/sam/Documents/Code/deep-transfer/results/3.jpg', '/Users/sam/Documents/Code/deep-transfer/results/4.jpg']\n",
    "\n",
    "# Check if all files exist\n",
    "for img_file in image_files:\n",
    "    if not os.path.exists(img_file):\n",
    "        raise FileNotFoundError(f\"Image file '{img_file}' not found.\")\n",
    "\n",
    "# Load images\n",
    "images = [mpimg.imread(img) for img in image_files]\n",
    "\n",
    "# Create a figure\n",
    "fig, axes = plt.subplots(2, 2, figsize=(10, 10))\n",
    "fig.suptitle(\"Image Collage\", fontsize=16)\n",
    "\n",
    "# Plot images in a 2x2 grid\n",
    "for ax, img, title in zip(axes.ravel(), images, image_files):\n",
    "    ax.imshow(img)\n",
    "    ax.set_title(title)\n",
    "    ax.axis('off')\n",
    "\n",
    "# Adjust layout\n",
    "plt.tight_layout()\n",
    "plt.subplots_adjust(top=0.9)\n",
    "\n",
    "# Show the collage\n",
    "plt.show()\n"
   ]
  }
 ],
 "metadata": {
  "kernelspec": {
   "display_name": "Python 3",
   "language": "python",
   "name": "python3"
  },
  "language_info": {
   "codemirror_mode": {
    "name": "ipython",
    "version": 3
   },
   "file_extension": ".py",
   "mimetype": "text/x-python",
   "name": "python",
   "nbconvert_exporter": "python",
   "pygments_lexer": "ipython3",
   "version": "3.9.6"
  }
 },
 "nbformat": 4,
 "nbformat_minor": 2
}
